{
 "cells": [
  {
   "cell_type": "code",
   "execution_count": null,
   "metadata": {},
   "outputs": [],
   "source": [
    "import pandas as pd\n",
    "import numpy as np\n",
    "import matplotlib.pyplot as plt\n",
    "import scipy.stats as scs\n",
    "import seaborn as sns\n",
    "from sklearn.ensemble import RandomForestClassifier "
   ]
  },
  {
   "cell_type": "code",
   "execution_count": null,
   "metadata": {},
   "outputs": [],
   "source": [
    "df = pd.read_excel('dec16-OutboundForAnalysis.xlsx')\n",
    "df.head()"
   ]
  },
  {
   "cell_type": "code",
   "execution_count": null,
   "metadata": {},
   "outputs": [],
   "source": [
    "df.columns"
   ]
  },
  {
   "cell_type": "code",
   "execution_count": null,
   "metadata": {},
   "outputs": [],
   "source": [
    "#drop last 2 columns because they are messing up data\n",
    "\n",
    "df.drop(columns=['Unnamed: 14','Unnamed: 15'],inplace=True)"
   ]
  },
  {
   "cell_type": "code",
   "execution_count": null,
   "metadata": {},
   "outputs": [],
   "source": [
    "df.head()"
   ]
  },
  {
   "cell_type": "code",
   "execution_count": null,
   "metadata": {},
   "outputs": [],
   "source": [
    "# Make scatter matrix to visualize \n",
    "\n",
    "pd.plotting.scatter_matrix(df, figsize=(20,20))\n",
    "plt.show()"
   ]
  },
  {
   "cell_type": "markdown",
   "metadata": {},
   "source": [
    "# EDA On Parameters"
   ]
  },
  {
   "cell_type": "markdown",
   "metadata": {},
   "source": [
    "## EDA - (1) Approach Vertical"
   ]
  },
  {
   "cell_type": "code",
   "execution_count": null,
   "metadata": {},
   "outputs": [],
   "source": [
    "df['Approach Vertical'].plot('hist')"
   ]
  },
  {
   "cell_type": "code",
   "execution_count": null,
   "metadata": {},
   "outputs": [],
   "source": [
    "df['Approach Vertical'].describe(), "
   ]
  },
  {
   "cell_type": "code",
   "execution_count": null,
   "metadata": {},
   "outputs": [],
   "source": [
    "approach_mu = df['Approach Vertical'].mean()\n",
    "approach_std = df['Approach Vertical'].std()\n",
    "\n",
    "min95 = approach_mu-2*approach_std\n",
    "max95 = approach_mu+2*approach_std\n",
    "\n",
    "\n",
    "def get_rank_approach_vertical(vert):\n",
    "    if vert > approach_mu+1*approach_std:\n",
    "        return 5\n",
    "    if vert > approach_mu:\n",
    "        return 4\n",
    "    if vert > approach_mu - approach_std:\n",
    "        return 3\n",
    "    if vert > approach_mu - 2*approach_std:\n",
    "        return 2\n",
    "    return 1"
   ]
  },
  {
   "cell_type": "code",
   "execution_count": null,
   "metadata": {},
   "outputs": [],
   "source": [
    "df['approach_vertical_rank'] = df['Approach Vertical'].apply(get_rank_approach_vertical)\n",
    "df.head()"
   ]
  },
  {
   "cell_type": "code",
   "execution_count": null,
   "metadata": {},
   "outputs": [],
   "source": [
    "# object\n",
    "# attributes (properties, adjectives)\n",
    "# methods (verbs)\n",
    "\n",
    "# object.attributes\n",
    "# object.method()\n",
    "\n",
    "av_rank_counts = pd.value_counts(df['approach_vertical_rank'].values, sort=False)\n",
    "av_rank_counts.plot.barh()\n"
   ]
  },
  {
   "cell_type": "code",
   "execution_count": null,
   "metadata": {},
   "outputs": [],
   "source": [
    "# Observation"
   ]
  },
  {
   "cell_type": "markdown",
   "metadata": {},
   "source": [
    "## EDA - (2) Vertical Jump"
   ]
  },
  {
   "cell_type": "code",
   "execution_count": null,
   "metadata": {},
   "outputs": [],
   "source": [
    "df['Vertical Jump'].plot('hist')"
   ]
  },
  {
   "cell_type": "code",
   "execution_count": null,
   "metadata": {},
   "outputs": [],
   "source": [
    "df['Vertical Jump'].describe(), "
   ]
  },
  {
   "cell_type": "code",
   "execution_count": null,
   "metadata": {},
   "outputs": [],
   "source": [
    "vertical_mu = df['Vertical Jump'].mean()\n",
    "vertical_std = df['Vertical Jump'].std()\n",
    "\n",
    "min95 = vertical_mu-2*vertical_std\n",
    "max95 = vertical_mu+2*vertical_std\n",
    "\n",
    "\n",
    "def get_rank_vertical_jump(vert):\n",
    "    if vert > vertical_mu+1*vertical_std:\n",
    "        return 5\n",
    "    if vert > vertical_mu:\n",
    "        return 4\n",
    "    if vert > vertical_mu - vertical_std:\n",
    "        return 3\n",
    "    if vert > vertical_mu - 2*vertical_std:\n",
    "        return 2\n",
    "    return 1"
   ]
  },
  {
   "cell_type": "code",
   "execution_count": null,
   "metadata": {},
   "outputs": [],
   "source": [
    "df['vertical_jump_rank'] = df['Vertical Jump'].apply(get_rank_vertical_jump)\n",
    "df.head()"
   ]
  },
  {
   "cell_type": "code",
   "execution_count": null,
   "metadata": {},
   "outputs": [],
   "source": [
    "av_rank_counts_vert_jump = pd.value_counts(df['vertical_jump_rank'].values, sort=False)\n",
    "av_rank_counts_vert_jump.plot.barh()"
   ]
  },
  {
   "cell_type": "code",
   "execution_count": null,
   "metadata": {},
   "outputs": [],
   "source": [
    "# Observations"
   ]
  },
  {
   "cell_type": "markdown",
   "metadata": {},
   "source": [
    "## EDA - (3) Reaction Shuttle"
   ]
  },
  {
   "cell_type": "code",
   "execution_count": null,
   "metadata": {},
   "outputs": [],
   "source": [
    "df['Reaction Shuttle'].plot('hist')"
   ]
  },
  {
   "cell_type": "code",
   "execution_count": null,
   "metadata": {},
   "outputs": [],
   "source": [
    "df['Reaction Shuttle'].describe(), "
   ]
  },
  {
   "cell_type": "code",
   "execution_count": null,
   "metadata": {},
   "outputs": [],
   "source": [
    "shuttle_mu = df['Reaction Shuttle'].mean()\n",
    "shuttle_std = df['Reaction Shuttle'].std()\n",
    "\n",
    "min95 = shuttle_mu-2*shuttle_std\n",
    "max95 = shuttle_mu+2*shuttle_std\n",
    "\n",
    "\n",
    "def get_rank_reaction_shuttle(shut):\n",
    "    if shut > shuttle_mu+1*shuttle_std:\n",
    "        return 5\n",
    "    if shut > shuttle_mu:\n",
    "        return 4\n",
    "    if shut > shuttle_mu - shuttle_std:\n",
    "        return 3\n",
    "    if shut > shuttle_mu - 2*shuttle_std:\n",
    "        return 2\n",
    "    return 1"
   ]
  },
  {
   "cell_type": "code",
   "execution_count": null,
   "metadata": {},
   "outputs": [],
   "source": [
    "df['reaction_shuttle_rank'] = df['Reaction Shuttle'].apply(get_rank_reaction_shuttle)\n",
    "df.head()"
   ]
  },
  {
   "cell_type": "code",
   "execution_count": null,
   "metadata": {},
   "outputs": [],
   "source": [
    "av_rank_counts_shuttle = pd.value_counts(df['reaction_shuttle_rank'].values, sort=False)\n",
    "av_rank_counts_shuttle.plot.barh()"
   ]
  },
  {
   "cell_type": "code",
   "execution_count": null,
   "metadata": {},
   "outputs": [],
   "source": [
    "# Observations - need to take outliers out and re weigh/balance data"
   ]
  },
  {
   "cell_type": "markdown",
   "metadata": {},
   "source": [
    "## EDA - (4) BAM Score"
   ]
  },
  {
   "cell_type": "code",
   "execution_count": null,
   "metadata": {},
   "outputs": [],
   "source": [
    "df['BAMScore'].plot('hist')"
   ]
  },
  {
   "cell_type": "code",
   "execution_count": null,
   "metadata": {},
   "outputs": [],
   "source": [
    "df['BAMScore'].describe(), "
   ]
  },
  {
   "cell_type": "code",
   "execution_count": null,
   "metadata": {},
   "outputs": [],
   "source": [
    "bam_mu = df['BAMScore'].mean()\n",
    "bam_std = df['BAMScore'].std()\n",
    "\n",
    "min95 = bam_mu-2*bam_std\n",
    "max95 = bam_mu+2*bam_std\n",
    "\n",
    "\n",
    "def get_rank_bam_score(bam):\n",
    "    if bam > bam_mu+1*bam_std:\n",
    "        return 5\n",
    "    if bam > bam_mu:\n",
    "        return 4\n",
    "    if bam > bam_mu - bam_std:\n",
    "        return 3\n",
    "    if bam > bam_mu - 2*bam_std:\n",
    "        return 2\n",
    "    return 1"
   ]
  },
  {
   "cell_type": "code",
   "execution_count": null,
   "metadata": {},
   "outputs": [],
   "source": [
    "df['bam_score_rank'] = df['BAMScore'].apply(get_rank_bam_score)\n",
    "df.head()"
   ]
  },
  {
   "cell_type": "code",
   "execution_count": null,
   "metadata": {
    "scrolled": true
   },
   "outputs": [],
   "source": [
    "av_rank_bam_score = pd.value_counts(df['bam_score_rank'].values, sort=False)\n",
    "av_rank_bam_score.plot.barh()"
   ]
  },
  {
   "cell_type": "code",
   "execution_count": null,
   "metadata": {},
   "outputs": [],
   "source": [
    "# Observations - A lot of values in 4 and 3 rank - Maybe break up into 10 ranks. We see a very normal distribution here."
   ]
  },
  {
   "cell_type": "markdown",
   "metadata": {},
   "source": [
    "## EDA - (5) Wingspan"
   ]
  },
  {
   "cell_type": "code",
   "execution_count": null,
   "metadata": {},
   "outputs": [],
   "source": [
    "df['Wingspan'].plot('hist')"
   ]
  },
  {
   "cell_type": "code",
   "execution_count": null,
   "metadata": {},
   "outputs": [],
   "source": [
    "df['Wingspan'].describe(), "
   ]
  },
  {
   "cell_type": "code",
   "execution_count": null,
   "metadata": {},
   "outputs": [],
   "source": [
    "wingspan_mu = df['Wingspan'].mean()\n",
    "wingspan_std = df['Wingspan'].std()\n",
    "\n",
    "min95 = wingspan_mu-2*wingspan_std\n",
    "max95 = wingspan_mu+2*wingspan_std\n",
    "\n",
    "\n",
    "def get_rank_wingspan(wing):\n",
    "    if wing > wingspan_mu+1*wingspan_std:\n",
    "        return 5\n",
    "    if wing > wingspan_mu:\n",
    "        return 4\n",
    "    if wing > wingspan_mu - wingspan_std:\n",
    "        return 3\n",
    "    if wing > wingspan_mu - 2*wingspan_std:\n",
    "        return 2\n",
    "    return 1"
   ]
  },
  {
   "cell_type": "code",
   "execution_count": null,
   "metadata": {},
   "outputs": [],
   "source": [
    "df['wingspan_rank'] = df['Wingspan'].apply(get_rank_wingspan)\n",
    "df.head()"
   ]
  },
  {
   "cell_type": "code",
   "execution_count": null,
   "metadata": {},
   "outputs": [],
   "source": [
    "av_rank_wingspan = pd.value_counts(df['wingspan_rank'].values, sort=False)\n",
    "av_rank_wingspan.plot.barh()"
   ]
  },
  {
   "cell_type": "markdown",
   "metadata": {},
   "source": [
    "## EDA - (6) Reach"
   ]
  },
  {
   "cell_type": "code",
   "execution_count": null,
   "metadata": {},
   "outputs": [],
   "source": [
    "df['Reach'].plot('hist')"
   ]
  },
  {
   "cell_type": "code",
   "execution_count": null,
   "metadata": {},
   "outputs": [],
   "source": [
    "df['Reach'].describe(), "
   ]
  },
  {
   "cell_type": "code",
   "execution_count": null,
   "metadata": {},
   "outputs": [],
   "source": [
    "reach_mu = df['Reach'].mean()\n",
    "reach_std = df['Reach'].std()\n",
    "\n",
    "min95 = reach_mu-2*reach_std\n",
    "max95 = reach_mu+2*reach_std\n",
    "\n",
    "\n",
    "def get_rank_reach(reach):\n",
    "    if reach > reach_mu+1*reach_std:\n",
    "        return 5\n",
    "    if reach > reach_mu:\n",
    "        return 4\n",
    "    if reach > reach_mu - reach_std:\n",
    "        return 3\n",
    "    if reach > reach_mu - 2*reach_std:\n",
    "        return 2\n",
    "    return 1"
   ]
  },
  {
   "cell_type": "code",
   "execution_count": null,
   "metadata": {},
   "outputs": [],
   "source": [
    "df['reach_rank'] = df['Reach'].apply(get_rank_reach)\n",
    "df.head()"
   ]
  },
  {
   "cell_type": "code",
   "execution_count": null,
   "metadata": {},
   "outputs": [],
   "source": [
    "av_rank_reach = pd.value_counts(df['reach_rank'].values, sort=False)\n",
    "av_rank_reach.plot.barh()"
   ]
  },
  {
   "cell_type": "code",
   "execution_count": null,
   "metadata": {},
   "outputs": [],
   "source": [
    "# Observations"
   ]
  },
  {
   "cell_type": "markdown",
   "metadata": {},
   "source": [
    "# EDA - (7) Height"
   ]
  },
  {
   "cell_type": "code",
   "execution_count": null,
   "metadata": {},
   "outputs": [],
   "source": [
    "df['Height'].plot('hist')"
   ]
  },
  {
   "cell_type": "code",
   "execution_count": null,
   "metadata": {},
   "outputs": [],
   "source": [
    "df['Height'].describe(), "
   ]
  },
  {
   "cell_type": "code",
   "execution_count": null,
   "metadata": {},
   "outputs": [],
   "source": [
    "height_mu = df['Height'].mean()\n",
    "height_std = df['Height'].std()\n",
    "\n",
    "min95 = height_mu-2*height_std\n",
    "max95 = height_mu+2*height_std\n",
    "\n",
    "\n",
    "def get_rank_height(height):\n",
    "    if height > height_mu+1*height_std:\n",
    "        return 5\n",
    "    if height > height_mu:\n",
    "        return 4\n",
    "    if height > height_mu - height_std:\n",
    "        return 3\n",
    "    if height > height_mu - 2*height_std:\n",
    "        return 2\n",
    "    return 1"
   ]
  },
  {
   "cell_type": "code",
   "execution_count": null,
   "metadata": {},
   "outputs": [],
   "source": [
    "df['height_rank'] = df['Height'].apply(get_rank_height)\n",
    "df.head()"
   ]
  },
  {
   "cell_type": "code",
   "execution_count": null,
   "metadata": {},
   "outputs": [],
   "source": [
    "av_rank_height = pd.value_counts(df['height_rank'].values, sort=False)\n",
    "av_rank_height.plot.barh()"
   ]
  },
  {
   "cell_type": "code",
   "execution_count": null,
   "metadata": {},
   "outputs": [],
   "source": [
    "# Observations"
   ]
  },
  {
   "cell_type": "markdown",
   "metadata": {},
   "source": [
    "# EDA - (8) Weight"
   ]
  },
  {
   "cell_type": "code",
   "execution_count": null,
   "metadata": {},
   "outputs": [],
   "source": [
    "df['Weight'].plot('hist')"
   ]
  },
  {
   "cell_type": "code",
   "execution_count": null,
   "metadata": {},
   "outputs": [],
   "source": [
    "df['Weight'].describe(), "
   ]
  },
  {
   "cell_type": "code",
   "execution_count": null,
   "metadata": {},
   "outputs": [],
   "source": [
    "weight_mu = df['Weight'].mean()\n",
    "weight_std = df['Weight'].std()\n",
    "\n",
    "min95 = weight_mu-2*weight_std\n",
    "max95 = weight_mu+2*weight_std\n",
    "\n",
    "\n",
    "def get_rank_weight(weight):\n",
    "    if weight > weight_mu+1*weight_std:\n",
    "        return 5\n",
    "    if weight > weight_mu:\n",
    "        return 4\n",
    "    if weight > weight_mu - weight_std:\n",
    "        return 3\n",
    "    if weight > weight_mu - 2*weight_std:\n",
    "        return 2\n",
    "    return 1"
   ]
  },
  {
   "cell_type": "code",
   "execution_count": null,
   "metadata": {},
   "outputs": [],
   "source": [
    "df['weight_rank'] = df['Weight'].apply(get_rank_weight)\n",
    "df.head()"
   ]
  },
  {
   "cell_type": "code",
   "execution_count": null,
   "metadata": {},
   "outputs": [],
   "source": [
    "av_rank_weight = pd.value_counts(df['weight_rank'].values, sort=False)\n",
    "av_rank_weight.plot.barh()"
   ]
  },
  {
   "cell_type": "code",
   "execution_count": null,
   "metadata": {},
   "outputs": [],
   "source": [
    "# Observations"
   ]
  },
  {
   "cell_type": "markdown",
   "metadata": {},
   "source": [
    "# EDA - (9) Body Comp"
   ]
  },
  {
   "cell_type": "code",
   "execution_count": null,
   "metadata": {},
   "outputs": [],
   "source": [
    "df['Body Comp'].plot('hist')"
   ]
  },
  {
   "cell_type": "code",
   "execution_count": null,
   "metadata": {},
   "outputs": [],
   "source": [
    "df['Body Comp'].describe(), "
   ]
  },
  {
   "cell_type": "code",
   "execution_count": null,
   "metadata": {},
   "outputs": [],
   "source": [
    "body_comp_mu = df['Body Comp'].mean()\n",
    "body_comp_std = df['Body Comp'].std()\n",
    "\n",
    "min95 = body_comp_mu-2*body_comp_std\n",
    "max95 = body_comp_mu+2*body_comp_std\n",
    "\n",
    "\n",
    "def get_rank_body_comp(body):\n",
    "    if body > body_comp_mu+1*wingspan_std:\n",
    "        return 5\n",
    "    if body > body_comp_mu:\n",
    "        return 4\n",
    "    if body > body_comp_mu - body_comp_std:\n",
    "        return 3\n",
    "    if body > body_comp_mu - 2*body_comp_std:\n",
    "        return 2\n",
    "    return 1"
   ]
  },
  {
   "cell_type": "code",
   "execution_count": null,
   "metadata": {},
   "outputs": [],
   "source": [
    "df['body_comp_rank'] = df['Body Comp'].apply(get_rank_body_comp)\n",
    "df.head()"
   ]
  },
  {
   "cell_type": "code",
   "execution_count": null,
   "metadata": {},
   "outputs": [],
   "source": [
    "av_rank_body_comp = pd.value_counts(df['body_comp_rank'].values, sort=False)\n",
    "av_rank_body_comp.plot.barh()"
   ]
  },
  {
   "cell_type": "code",
   "execution_count": null,
   "metadata": {},
   "outputs": [],
   "source": [
    "# Observations"
   ]
  },
  {
   "cell_type": "markdown",
   "metadata": {},
   "source": [
    "# EDA - (10) Hand Length"
   ]
  },
  {
   "cell_type": "code",
   "execution_count": null,
   "metadata": {},
   "outputs": [],
   "source": [
    "df['Hand Length'].plot('hist')"
   ]
  },
  {
   "cell_type": "code",
   "execution_count": null,
   "metadata": {},
   "outputs": [],
   "source": [
    "df['Hand Length'].describe(), "
   ]
  },
  {
   "cell_type": "code",
   "execution_count": null,
   "metadata": {},
   "outputs": [],
   "source": [
    "hand_length_mu = df['Hand Length'].mean()\n",
    "hand_length_std = df['Hand Length'].std()\n",
    "\n",
    "min95 = hand_length_mu-2*hand_length_std\n",
    "max95 = hand_length_mu+2*hand_length_std\n",
    "\n",
    "\n",
    "def get_rank_hand_length(handlength):\n",
    "    if handlength > hand_length_mu+1*hand_length_std:\n",
    "        return 5\n",
    "    if handlength > hand_length_mu:\n",
    "        return 4\n",
    "    if handlength > hand_length_mu - hand_length_std:\n",
    "        return 3\n",
    "    if handlength > hand_length_mu - 2*hand_length_std:\n",
    "        return 2\n",
    "    return 1"
   ]
  },
  {
   "cell_type": "code",
   "execution_count": null,
   "metadata": {},
   "outputs": [],
   "source": [
    "df['hand_length_rank'] = df['Hand Length'].apply(get_rank_hand_length)\n",
    "df.head()"
   ]
  },
  {
   "cell_type": "code",
   "execution_count": null,
   "metadata": {},
   "outputs": [],
   "source": [
    "av_rank_hand_length = pd.value_counts(df['hand_length_rank'].values, sort=False)\n",
    "av_rank_hand_length.plot.barh()"
   ]
  },
  {
   "cell_type": "code",
   "execution_count": null,
   "metadata": {},
   "outputs": [],
   "source": [
    "# Observations"
   ]
  },
  {
   "cell_type": "markdown",
   "metadata": {},
   "source": [
    "# EDA - (11) Hand Width"
   ]
  },
  {
   "cell_type": "code",
   "execution_count": null,
   "metadata": {},
   "outputs": [],
   "source": [
    "df['Hand Width'].plot('hist')"
   ]
  },
  {
   "cell_type": "code",
   "execution_count": null,
   "metadata": {},
   "outputs": [],
   "source": [
    "df['Hand Width'].describe(), "
   ]
  },
  {
   "cell_type": "code",
   "execution_count": null,
   "metadata": {},
   "outputs": [],
   "source": [
    "hand_width_mu = df['Hand Width'].mean()\n",
    "hand_width_std = df['Hand Width'].std()\n",
    "\n",
    "min95 = hand_width_mu-2*hand_width_std\n",
    "max95 = hand_width_mu+2*hand_width_std\n",
    "\n",
    "\n",
    "def get_rank_hand_width(handwidth):\n",
    "    if handwidth > hand_width_mu+1*hand_width_std:\n",
    "        return 5\n",
    "    if handwidth > hand_width_mu:\n",
    "        return 4\n",
    "    if handwidth > hand_width_mu - hand_width_std:\n",
    "        return 3\n",
    "    if handwidth > hand_width_mu - 2*hand_width_std:\n",
    "        return 2\n",
    "    return 1"
   ]
  },
  {
   "cell_type": "code",
   "execution_count": null,
   "metadata": {},
   "outputs": [],
   "source": [
    "df['hand_width_rank'] = df['Hand Width'].apply(get_rank_hand_width)\n",
    "df.head()"
   ]
  },
  {
   "cell_type": "code",
   "execution_count": null,
   "metadata": {},
   "outputs": [],
   "source": [
    "av_rank_hand_width = pd.value_counts(df['hand_width_rank'].values, sort=False)\n",
    "av_rank_hand_width.plot.barh()"
   ]
  },
  {
   "cell_type": "markdown",
   "metadata": {},
   "source": [
    "# Feature Importance Analysis"
   ]
  },
  {
   "cell_type": "code",
   "execution_count": null,
   "metadata": {},
   "outputs": [],
   "source": [
    "df"
   ]
  },
  {
   "cell_type": "code",
   "execution_count": null,
   "metadata": {},
   "outputs": [],
   "source": [
    "#df['3/4 Court sprint  '] = df['3/4 Court sprint  '].astype(float)"
   ]
  },
  {
   "cell_type": "code",
   "execution_count": null,
   "metadata": {},
   "outputs": [],
   "source": [
    "for index,col in enumerate(df['3/4 Court sprint  ']):\n",
    "    try:\n",
    "        float(col)\n",
    "    except ValueError:\n",
    "        print (index,col)"
   ]
  },
  {
   "cell_type": "code",
   "execution_count": null,
   "metadata": {},
   "outputs": [],
   "source": [
    "df.loc[371,'3/4 Court sprint  ']"
   ]
  },
  {
   "cell_type": "code",
   "execution_count": null,
   "metadata": {},
   "outputs": [],
   "source": [
    "df['3/4 Court sprint  '] = df['3/4 Court sprint  '].replace(' ',np.NaN)\n",
    "df['3/4 Court sprint  ']"
   ]
  },
  {
   "cell_type": "code",
   "execution_count": null,
   "metadata": {},
   "outputs": [],
   "source": [
    "x = df.drop(columns=['BAMid', 'BAMScore','bam_score_rank','approach_vertical_rank', 'vertical_jump_rank',\n",
    "       'reaction_shuttle_rank','wingspan_rank','reach_rank','height_rank','weight_rank','body_comp_rank','hand_length_rank','hand_width_rank'])\n",
    "y = df[['bam_score_rank']]"
   ]
  },
  {
   "cell_type": "code",
   "execution_count": null,
   "metadata": {},
   "outputs": [],
   "source": [
    "x.info()"
   ]
  },
  {
   "cell_type": "code",
   "execution_count": null,
   "metadata": {},
   "outputs": [],
   "source": [
    "x = x.replace(to_replace=['Nan','NAN'], value=np.nan)"
   ]
  },
  {
   "cell_type": "code",
   "execution_count": null,
   "metadata": {},
   "outputs": [],
   "source": [
    "x = x.fillna(x.mean())\n",
    "# FORMULA = df.fillna(df.mean())"
   ]
  },
  {
   "cell_type": "code",
   "execution_count": null,
   "metadata": {},
   "outputs": [],
   "source": [
    "x.isnull().sum()"
   ]
  },
  {
   "cell_type": "markdown",
   "metadata": {},
   "source": [
    "# repeat for 4 way agility"
   ]
  },
  {
   "cell_type": "code",
   "execution_count": null,
   "metadata": {},
   "outputs": [],
   "source": [
    "#df['4-Way agility'] = df['4-Way agility'].astype(float)"
   ]
  },
  {
   "cell_type": "code",
   "execution_count": null,
   "metadata": {},
   "outputs": [],
   "source": [
    "for index,col in enumerate(df['4-Way agility']):\n",
    "    try:\n",
    "        float(col)\n",
    "    except ValueError:\n",
    "        print (index,col)"
   ]
  },
  {
   "cell_type": "code",
   "execution_count": null,
   "metadata": {},
   "outputs": [],
   "source": [
    "df.loc[377,'4-Way agility']"
   ]
  },
  {
   "cell_type": "code",
   "execution_count": null,
   "metadata": {},
   "outputs": [],
   "source": [
    "df['4-Way agility'] = df['4-Way agility'].replace(' ',np.NaN)\n",
    "df['4-Way agility']"
   ]
  },
  {
   "cell_type": "code",
   "execution_count": null,
   "metadata": {},
   "outputs": [],
   "source": [
    "x = df.drop(columns=['BAMid', 'BAMScore','bam_score_rank','approach_vertical_rank', 'vertical_jump_rank',\n",
    "       'reaction_shuttle_rank','wingspan_rank','reach_rank','height_rank','weight_rank','body_comp_rank','hand_length_rank','hand_width_rank'])\n",
    "y = df[['bam_score_rank']]"
   ]
  },
  {
   "cell_type": "code",
   "execution_count": null,
   "metadata": {},
   "outputs": [],
   "source": [
    "x.info()"
   ]
  },
  {
   "cell_type": "code",
   "execution_count": null,
   "metadata": {},
   "outputs": [],
   "source": [
    "x = x.replace(to_replace=['Nan','NAN'], value=np.nan)"
   ]
  },
  {
   "cell_type": "code",
   "execution_count": null,
   "metadata": {},
   "outputs": [],
   "source": [
    "x = x.fillna(x.mean())\n",
    "# FORMULA = df.fillna(df.mean())"
   ]
  },
  {
   "cell_type": "code",
   "execution_count": null,
   "metadata": {},
   "outputs": [],
   "source": [
    "x.isnull().sum()"
   ]
  },
  {
   "cell_type": "code",
   "execution_count": null,
   "metadata": {},
   "outputs": [],
   "source": [
    "rf = RandomForestClassifier()\n",
    "rf.fit (x,y)\n",
    "\n",
    "#find string in data that is messing it up"
   ]
  },
  {
   "cell_type": "code",
   "execution_count": null,
   "metadata": {},
   "outputs": [],
   "source": [
    "print(x.columns)\n",
    "print(rf.feature_importances_)"
   ]
  },
  {
   "cell_type": "code",
   "execution_count": null,
   "metadata": {},
   "outputs": [],
   "source": [
    "values = rf.feature_importances_\n",
    "names = x.columns\n",
    "plt.figure(figsize=(13,8))\n",
    "plt.grid(zorder=0)\n",
    "plt.bar(names,values,zorder=2)\n",
    "plt.xticks(rotation=75)\n",
    "plt.show\n",
    "\n",
    "plt.title('Feature Importance with respect to Bam Score')\n",
    "plt.xlabel('Parameters')\n",
    "plt.ylabel('Feature Importance')"
   ]
  },
  {
   "cell_type": "code",
   "execution_count": null,
   "metadata": {},
   "outputs": [],
   "source": [
    "df_cleaned = x.copy()"
   ]
  },
  {
   "cell_type": "code",
   "execution_count": null,
   "metadata": {},
   "outputs": [],
   "source": [
    "df_cleaned['bam_score'] = y\n",
    "df_cleaned.head(2)"
   ]
  },
  {
   "cell_type": "code",
   "execution_count": null,
   "metadata": {},
   "outputs": [],
   "source": [
    "plt.figure(figsize=(13, 8))\n",
    "sns.violinplot(x='bam_score', y='Reaction Shuttle', data=df_cleaned)\n",
    "plt.show()"
   ]
  },
  {
   "cell_type": "code",
   "execution_count": null,
   "metadata": {},
   "outputs": [],
   "source": [
    "plt.figure(figsize=(8, 5))\n",
    "sns.lmplot(x='bam_score', y='Reaction Shuttle', data=df_cleaned)\n",
    "plt.show()"
   ]
  },
  {
   "cell_type": "code",
   "execution_count": null,
   "metadata": {},
   "outputs": [],
   "source": [
    "#reaction shuttle is the highiest dilineator for their rank"
   ]
  },
  {
   "cell_type": "markdown",
   "metadata": {},
   "source": [
    "## EDA - (10) Hand Length cont."
   ]
  },
  {
   "cell_type": "code",
   "execution_count": null,
   "metadata": {},
   "outputs": [],
   "source": [
    "# Hand Length threshold identifier"
   ]
  },
  {
   "cell_type": "code",
   "execution_count": null,
   "metadata": {},
   "outputs": [],
   "source": [
    "hl_mu = df['Hand Length'].mean()\n",
    "hl_std = df['Hand Length'].std()\n",
    "print(hl_mu, hl_std)\n",
    "lower_95 = hl_mu-2*hl_std\n",
    "df.shape, df[df['Hand Length']>7].shape"
   ]
  },
  {
   "cell_type": "code",
   "execution_count": null,
   "metadata": {},
   "outputs": [],
   "source": [
    "df.isna().sum()"
   ]
  },
  {
   "cell_type": "code",
   "execution_count": null,
   "metadata": {},
   "outputs": [],
   "source": [
    "hl_min = df['Hand Length'].min()\n",
    "\n",
    "jbs = []\n",
    "thresholds = np.linspace(hl_min, hl_mu, 10)\n",
    "for threshold in thresholds:\n",
    "    vals = df[df['Hand Length'].fillna(hl_mu)>threshold]['Hand Length'].fillna(hl_mu)\n",
    "    plt.hist(vals, bins=20)\n",
    "    plt.title(\"histogram of hand length\\n{}\".format(threshold))\n",
    "    plt.show()\n",
    "    jb = scs.jarque_bera(vals)\n",
    "    jbs.append(jb[0])"
   ]
  },
  {
   "cell_type": "code",
   "execution_count": null,
   "metadata": {},
   "outputs": [],
   "source": [
    "plt.scatter(thresholds, jbs)"
   ]
  },
  {
   "cell_type": "code",
   "execution_count": null,
   "metadata": {},
   "outputs": [],
   "source": [
    "# Conclusion - 4.672 threshold"
   ]
  },
  {
   "cell_type": "markdown",
   "metadata": {},
   "source": [
    "# Observations\n",
    "\n",
    "### Hand length is messing everything up and I need to cut it. Contains lot's of outliers.\n",
    "### Let's find these outliers and make a list of them to discuss with martin.\n",
    "#### --> Once I find the outliers, Martin and I will decide weather or not to fix or drop them."
   ]
  },
  {
   "cell_type": "markdown",
   "metadata": {},
   "source": [
    "### Code to remove outliers from Height and Weight Catagories"
   ]
  },
  {
   "cell_type": "code",
   "execution_count": null,
   "metadata": {},
   "outputs": [],
   "source": [
    "#df.describe()"
   ]
  },
  {
   "cell_type": "code",
   "execution_count": null,
   "metadata": {},
   "outputs": [],
   "source": [
    "#df.loc[df['Weight']>0].describe()"
   ]
  },
  {
   "cell_type": "code",
   "execution_count": null,
   "metadata": {},
   "outputs": [],
   "source": [
    "#df.loc[df['Height']>100.0]"
   ]
  },
  {
   "cell_type": "code",
   "execution_count": null,
   "metadata": {},
   "outputs": [],
   "source": [
    "#df_no_outlier = df.loc[df['Height']<100.0]"
   ]
  },
  {
   "cell_type": "code",
   "execution_count": null,
   "metadata": {},
   "outputs": [],
   "source": [
    "#pd.plotting.scatter_matrix(df_no_outlier, figsize=(20,20))\n",
    "#plt.show()"
   ]
  },
  {
   "cell_type": "code",
   "execution_count": null,
   "metadata": {},
   "outputs": [],
   "source": [
    "#df.loc[df['Height']<60.0]"
   ]
  },
  {
   "cell_type": "code",
   "execution_count": null,
   "metadata": {},
   "outputs": [],
   "source": []
  },
  {
   "cell_type": "code",
   "execution_count": null,
   "metadata": {},
   "outputs": [],
   "source": []
  },
  {
   "cell_type": "markdown",
   "metadata": {},
   "source": [
    "## Notes for Martin 1/29"
   ]
  }
 ],
 "metadata": {
  "kernelspec": {
   "display_name": "Python [conda env:learn-env] *",
   "language": "python",
   "name": "conda-env-learn-env-py"
  },
  "language_info": {
   "codemirror_mode": {
    "name": "ipython",
    "version": 3
   },
   "file_extension": ".py",
   "mimetype": "text/x-python",
   "name": "python",
   "nbconvert_exporter": "python",
   "pygments_lexer": "ipython3",
   "version": "3.6.6"
  }
 },
 "nbformat": 4,
 "nbformat_minor": 2
}
